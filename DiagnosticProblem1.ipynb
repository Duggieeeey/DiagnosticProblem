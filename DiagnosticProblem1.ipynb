{
 "cells": [
  {
   "cell_type": "code",
   "execution_count": 1,
   "id": "ecd24bd8",
   "metadata": {},
   "outputs": [
    {
     "name": "stdout",
     "output_type": "stream",
     "text": [
      "abcaaabbb\n",
      "abca3b3\n"
     ]
    }
   ],
   "source": [
    "# Sample 1\n",
    "def compress_string(msg):\n",
    "    compressed_msg = \"\"\n",
    "    count = 1\n",
    "\n",
    "    for i in range(1, len(msg)):\n",
    "        if msg[i] == msg[i - 1]:\n",
    "            count += 1\n",
    "        else:\n",
    "            compressed_msg += msg[i - 1]\n",
    "            if count > 1:\n",
    "                compressed_msg += str(count)\n",
    "            count = 1\n",
    "\n",
    "    compressed_msg += msg[-1]\n",
    "    if count > 1:\n",
    "        compressed_msg += str(count)\n",
    "\n",
    "    return compressed_msg\n",
    "\n",
    "# Input\n",
    "msg = input()\n",
    "\n",
    "# Output\n",
    "compressed_msg = compress_string(msg)\n",
    "print(compressed_msg)"
   ]
  },
  {
   "cell_type": "code",
   "execution_count": 2,
   "id": "6ec52ace",
   "metadata": {},
   "outputs": [
    {
     "name": "stdout",
     "output_type": "stream",
     "text": [
      "abcd\n",
      "abcd\n"
     ]
    }
   ],
   "source": [
    "# Sample 2\n",
    "def compress_string(msg):\n",
    "    compressed_msg = \"\"\n",
    "    count = 1\n",
    "\n",
    "    for i in range(1, len(msg)):\n",
    "        if msg[i] == msg[i - 1]:\n",
    "            count += 1\n",
    "        else:\n",
    "            compressed_msg += msg[i - 1]\n",
    "            if count > 1:\n",
    "                compressed_msg += str(count)\n",
    "            count = 1\n",
    "\n",
    "    compressed_msg += msg[-1]\n",
    "    if count > 1:\n",
    "        compressed_msg += str(count)\n",
    "\n",
    "    return compressed_msg\n",
    "\n",
    "# Input\n",
    "msg = input()\n",
    "\n",
    "# Output\n",
    "compressed_msg = compress_string(msg)\n",
    "print(compressed_msg)"
   ]
  },
  {
   "cell_type": "code",
   "execution_count": null,
   "id": "28863124",
   "metadata": {},
   "outputs": [],
   "source": []
  }
 ],
 "metadata": {
  "kernelspec": {
   "display_name": "Python 3 (ipykernel)",
   "language": "python",
   "name": "python3"
  },
  "language_info": {
   "codemirror_mode": {
    "name": "ipython",
    "version": 3
   },
   "file_extension": ".py",
   "mimetype": "text/x-python",
   "name": "python",
   "nbconvert_exporter": "python",
   "pygments_lexer": "ipython3",
   "version": "3.9.12"
  }
 },
 "nbformat": 4,
 "nbformat_minor": 5
}
